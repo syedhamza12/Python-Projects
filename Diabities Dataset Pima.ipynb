{
 "cells": [
  {
   "cell_type": "markdown",
   "metadata": {},
   "source": [
    "# PIMA DIABITIES"
   ]
  },
  {
   "cell_type": "code",
   "execution_count": 2,
   "metadata": {},
   "outputs": [
    {
     "name": "stderr",
     "output_type": "stream",
     "text": [
      "Using TensorFlow backend.\n"
     ]
    }
   ],
   "source": [
    "import numpy as np\n",
    "from keras.models import Sequential\n",
    "from keras.layers import Dense,Activation,Dropout,BatchNormalization,Flatten\n",
    "from keras.layers.convolutional import Conv2D,MaxPooling2D\n",
    "from keras.utils import np_utils\n",
    "import pandas as pd"
   ]
  },
  {
   "cell_type": "code",
   "execution_count": 179,
   "metadata": {},
   "outputs": [
    {
     "data": {
      "text/html": [
       "<div>\n",
       "<style scoped>\n",
       "    .dataframe tbody tr th:only-of-type {\n",
       "        vertical-align: middle;\n",
       "    }\n",
       "\n",
       "    .dataframe tbody tr th {\n",
       "        vertical-align: top;\n",
       "    }\n",
       "\n",
       "    .dataframe thead th {\n",
       "        text-align: right;\n",
       "    }\n",
       "</style>\n",
       "<table border=\"1\" class=\"dataframe\">\n",
       "  <thead>\n",
       "    <tr style=\"text-align: right;\">\n",
       "      <th></th>\n",
       "      <th>num_preg</th>\n",
       "      <th>glucose_con</th>\n",
       "      <th>Diastolic_bp</th>\n",
       "      <th>Thckness</th>\n",
       "      <th>Insulin</th>\n",
       "      <th>BMI</th>\n",
       "      <th>Diab_pred</th>\n",
       "      <th>Age</th>\n",
       "      <th>Target</th>\n",
       "    </tr>\n",
       "  </thead>\n",
       "  <tbody>\n",
       "    <tr>\n",
       "      <td>0</td>\n",
       "      <td>6</td>\n",
       "      <td>148</td>\n",
       "      <td>72</td>\n",
       "      <td>35</td>\n",
       "      <td>0</td>\n",
       "      <td>33.6</td>\n",
       "      <td>0.627</td>\n",
       "      <td>50</td>\n",
       "      <td>1</td>\n",
       "    </tr>\n",
       "    <tr>\n",
       "      <td>1</td>\n",
       "      <td>1</td>\n",
       "      <td>85</td>\n",
       "      <td>66</td>\n",
       "      <td>29</td>\n",
       "      <td>0</td>\n",
       "      <td>26.6</td>\n",
       "      <td>0.351</td>\n",
       "      <td>31</td>\n",
       "      <td>0</td>\n",
       "    </tr>\n",
       "    <tr>\n",
       "      <td>2</td>\n",
       "      <td>8</td>\n",
       "      <td>183</td>\n",
       "      <td>64</td>\n",
       "      <td>0</td>\n",
       "      <td>0</td>\n",
       "      <td>23.3</td>\n",
       "      <td>0.672</td>\n",
       "      <td>32</td>\n",
       "      <td>1</td>\n",
       "    </tr>\n",
       "    <tr>\n",
       "      <td>3</td>\n",
       "      <td>1</td>\n",
       "      <td>89</td>\n",
       "      <td>66</td>\n",
       "      <td>23</td>\n",
       "      <td>94</td>\n",
       "      <td>28.1</td>\n",
       "      <td>0.167</td>\n",
       "      <td>21</td>\n",
       "      <td>0</td>\n",
       "    </tr>\n",
       "    <tr>\n",
       "      <td>4</td>\n",
       "      <td>0</td>\n",
       "      <td>137</td>\n",
       "      <td>40</td>\n",
       "      <td>35</td>\n",
       "      <td>168</td>\n",
       "      <td>43.1</td>\n",
       "      <td>2.288</td>\n",
       "      <td>33</td>\n",
       "      <td>1</td>\n",
       "    </tr>\n",
       "  </tbody>\n",
       "</table>\n",
       "</div>"
      ],
      "text/plain": [
       "   num_preg  glucose_con  Diastolic_bp  Thckness  Insulin   BMI  Diab_pred  \\\n",
       "0         6          148            72        35        0  33.6      0.627   \n",
       "1         1           85            66        29        0  26.6      0.351   \n",
       "2         8          183            64         0        0  23.3      0.672   \n",
       "3         1           89            66        23       94  28.1      0.167   \n",
       "4         0          137            40        35      168  43.1      2.288   \n",
       "\n",
       "   Age  Target  \n",
       "0   50       1  \n",
       "1   31       0  \n",
       "2   32       1  \n",
       "3   21       0  \n",
       "4   33       1  "
      ]
     },
     "execution_count": 179,
     "metadata": {},
     "output_type": "execute_result"
    }
   ],
   "source": [
    "d=pd.read_csv(r\"C:\\\\Users\\\\hamza jamil\\\\Downloads\\Video\\\\pima-indians-diabetes.csv\")\n",
    "d.head()"
   ]
  },
  {
   "cell_type": "code",
   "execution_count": 4,
   "metadata": {},
   "outputs": [
    {
     "name": "stdout",
     "output_type": "stream",
     "text": [
      "<class 'pandas.core.frame.DataFrame'>\n",
      "RangeIndex: 768 entries, 0 to 767\n",
      "Data columns (total 9 columns):\n",
      "num_preg        768 non-null int64\n",
      "glucose_con     768 non-null int64\n",
      "Diastolic_bp    768 non-null int64\n",
      "Thckness        768 non-null int64\n",
      "Insulin         768 non-null int64\n",
      "BMI             768 non-null float64\n",
      "Diab_pred       768 non-null float64\n",
      "Age             768 non-null int64\n",
      "Target          768 non-null int64\n",
      "dtypes: float64(2), int64(7)\n",
      "memory usage: 54.1 KB\n"
     ]
    }
   ],
   "source": [
    "d.info()"
   ]
  },
  {
   "cell_type": "markdown",
   "metadata": {},
   "source": [
    "# correlation matrix"
   ]
  },
  {
   "cell_type": "code",
   "execution_count": 18,
   "metadata": {
    "scrolled": false
   },
   "outputs": [
    {
     "data": {
      "text/plain": [
       "<matplotlib.colorbar.Colorbar at 0x253f2846438>"
      ]
     },
     "execution_count": 18,
     "metadata": {},
     "output_type": "execute_result"
    },
    {
     "data": {
      "image/png": "[encoded data removed]",
      "text/plain": [
       "<Figure size 1008x1008 with 2 Axes>"
      ]
     },
     "metadata": {
      "needs_background": "light"
     },
     "output_type": "display_data"
    }
   ],
   "source": [
    "from matplotlib import rcParams\n",
    "import matplotlib.pyplot as plt\n",
    "from sklearn.ensemble import RandomForestClassifier as Featuree\n",
    "from matplotlib.cm import rainbow\n",
    "%matplotlib inline\n",
    "rcParams['figure.figsize'] = 20, 14\n",
    "plt.matshow(d.corr())\n",
    "plt.yticks(np.arange(d.shape[1]), d.columns)\n",
    "plt.xticks(np.arange(d.shape[1]), d.columns)\n",
    "plt.colorbar()"
   ]
  },
  {
   "cell_type": "markdown",
   "metadata": {},
   "source": [
    "# First we sort instance by age"
   ]
  },
  {
   "cell_type": "code",
   "execution_count": 7,
   "metadata": {},
   "outputs": [
    {
     "data": {
      "text/html": [
       "<div>\n",
       "<style scoped>\n",
       "    .dataframe tbody tr th:only-of-type {\n",
       "        vertical-align: middle;\n",
       "    }\n",
       "\n",
       "    .dataframe tbody tr th {\n",
       "        vertical-align: top;\n",
       "    }\n",
       "\n",
       "    .dataframe thead th {\n",
       "        text-align: right;\n",
       "    }\n",
       "</style>\n",
       "<table border=\"1\" class=\"dataframe\">\n",
       "  <thead>\n",
       "    <tr style=\"text-align: right;\">\n",
       "      <th></th>\n",
       "      <th>num_preg</th>\n",
       "      <th>glucose_con</th>\n",
       "      <th>Diastolic_bp</th>\n",
       "      <th>Thckness</th>\n",
       "      <th>Insulin</th>\n",
       "      <th>BMI</th>\n",
       "      <th>Diab_pred</th>\n",
       "      <th>Age</th>\n",
       "      <th>Target</th>\n",
       "    </tr>\n",
       "  </thead>\n",
       "  <tbody>\n",
       "    <tr>\n",
       "      <td>255</td>\n",
       "      <td>1</td>\n",
       "      <td>113</td>\n",
       "      <td>64</td>\n",
       "      <td>35</td>\n",
       "      <td>0</td>\n",
       "      <td>33.6</td>\n",
       "      <td>0.543</td>\n",
       "      <td>21</td>\n",
       "      <td>1</td>\n",
       "    </tr>\n",
       "    <tr>\n",
       "      <td>60</td>\n",
       "      <td>2</td>\n",
       "      <td>84</td>\n",
       "      <td>0</td>\n",
       "      <td>0</td>\n",
       "      <td>0</td>\n",
       "      <td>0.0</td>\n",
       "      <td>0.304</td>\n",
       "      <td>21</td>\n",
       "      <td>0</td>\n",
       "    </tr>\n",
       "    <tr>\n",
       "      <td>102</td>\n",
       "      <td>0</td>\n",
       "      <td>125</td>\n",
       "      <td>96</td>\n",
       "      <td>0</td>\n",
       "      <td>0</td>\n",
       "      <td>22.5</td>\n",
       "      <td>0.262</td>\n",
       "      <td>21</td>\n",
       "      <td>0</td>\n",
       "    </tr>\n",
       "    <tr>\n",
       "      <td>182</td>\n",
       "      <td>1</td>\n",
       "      <td>0</td>\n",
       "      <td>74</td>\n",
       "      <td>20</td>\n",
       "      <td>23</td>\n",
       "      <td>27.7</td>\n",
       "      <td>0.299</td>\n",
       "      <td>21</td>\n",
       "      <td>0</td>\n",
       "    </tr>\n",
       "    <tr>\n",
       "      <td>623</td>\n",
       "      <td>0</td>\n",
       "      <td>94</td>\n",
       "      <td>70</td>\n",
       "      <td>27</td>\n",
       "      <td>115</td>\n",
       "      <td>43.5</td>\n",
       "      <td>0.347</td>\n",
       "      <td>21</td>\n",
       "      <td>0</td>\n",
       "    </tr>\n",
       "  </tbody>\n",
       "</table>\n",
       "</div>"
      ],
      "text/plain": [
       "     num_preg  glucose_con  Diastolic_bp  Thckness  Insulin   BMI  Diab_pred  \\\n",
       "255         1          113            64        35        0  33.6      0.543   \n",
       "60          2           84             0         0        0   0.0      0.304   \n",
       "102         0          125            96         0        0  22.5      0.262   \n",
       "182         1            0            74        20       23  27.7      0.299   \n",
       "623         0           94            70        27      115  43.5      0.347   \n",
       "\n",
       "     Age  Target  \n",
       "255   21       1  \n",
       "60    21       0  \n",
       "102   21       0  \n",
       "182   21       0  \n",
       "623   21       0  "
      ]
     },
     "execution_count": 7,
     "metadata": {},
     "output_type": "execute_result"
    }
   ],
   "source": [
    "data=d.sort_values(by=['Age'])\n",
    "data.head()               #here we sort data by Age"
   ]
  },
  {
   "cell_type": "code",
   "execution_count": null,
   "metadata": {},
   "outputs": [],
   "source": []
  },
  {
   "cell_type": "markdown",
   "metadata": {},
   "source": [
    "# Now here we drop duplicate value in our data"
   ]
  },
  {
   "cell_type": "code",
   "execution_count": 8,
   "metadata": {},
   "outputs": [],
   "source": [
    "dup=data.drop_duplicates(keep=False,inplace=True)\n",
    "dup                   #here we use drop_duplicate method to drop duplcate value but here we have not duplicate value"
   ]
  },
  {
   "cell_type": "code",
   "execution_count": 9,
   "metadata": {},
   "outputs": [
    {
     "data": {
      "text/plain": [
       "768"
      ]
     },
     "execution_count": 9,
     "metadata": {},
     "output_type": "execute_result"
    }
   ],
   "source": [
    "len(data)"
   ]
  },
  {
   "cell_type": "markdown",
   "metadata": {},
   "source": [
    "# here we check missing value in our data"
   ]
  },
  {
   "cell_type": "code",
   "execution_count": 10,
   "metadata": {},
   "outputs": [
    {
     "data": {
      "text/plain": [
       "False"
      ]
     },
     "execution_count": 10,
     "metadata": {},
     "output_type": "execute_result"
    }
   ],
   "source": [
    "data.isnull().values.any() #here we see we have no any null value"
   ]
  },
  {
   "cell_type": "markdown",
   "metadata": {},
   "source": [
    "# here we checking NAN N/A value in our data"
   ]
  },
  {
   "cell_type": "code",
   "execution_count": 11,
   "metadata": {},
   "outputs": [
    {
     "data": {
      "text/html": [
       "<div>\n",
       "<style scoped>\n",
       "    .dataframe tbody tr th:only-of-type {\n",
       "        vertical-align: middle;\n",
       "    }\n",
       "\n",
       "    .dataframe tbody tr th {\n",
       "        vertical-align: top;\n",
       "    }\n",
       "\n",
       "    .dataframe thead th {\n",
       "        text-align: right;\n",
       "    }\n",
       "</style>\n",
       "<table border=\"1\" class=\"dataframe\">\n",
       "  <thead>\n",
       "    <tr style=\"text-align: right;\">\n",
       "      <th></th>\n",
       "      <th>num_preg</th>\n",
       "      <th>glucose_con</th>\n",
       "      <th>Diastolic_bp</th>\n",
       "      <th>Thckness</th>\n",
       "      <th>Insulin</th>\n",
       "      <th>BMI</th>\n",
       "      <th>Diab_pred</th>\n",
       "      <th>Age</th>\n",
       "      <th>Target</th>\n",
       "    </tr>\n",
       "  </thead>\n",
       "  <tbody>\n",
       "    <tr>\n",
       "      <td>255</td>\n",
       "      <td>1</td>\n",
       "      <td>113</td>\n",
       "      <td>64</td>\n",
       "      <td>35</td>\n",
       "      <td>0</td>\n",
       "      <td>33.6</td>\n",
       "      <td>0.543</td>\n",
       "      <td>21</td>\n",
       "      <td>1</td>\n",
       "    </tr>\n",
       "    <tr>\n",
       "      <td>60</td>\n",
       "      <td>2</td>\n",
       "      <td>84</td>\n",
       "      <td>0</td>\n",
       "      <td>0</td>\n",
       "      <td>0</td>\n",
       "      <td>0.0</td>\n",
       "      <td>0.304</td>\n",
       "      <td>21</td>\n",
       "      <td>0</td>\n",
       "    </tr>\n",
       "    <tr>\n",
       "      <td>102</td>\n",
       "      <td>0</td>\n",
       "      <td>125</td>\n",
       "      <td>96</td>\n",
       "      <td>0</td>\n",
       "      <td>0</td>\n",
       "      <td>22.5</td>\n",
       "      <td>0.262</td>\n",
       "      <td>21</td>\n",
       "      <td>0</td>\n",
       "    </tr>\n",
       "    <tr>\n",
       "      <td>182</td>\n",
       "      <td>1</td>\n",
       "      <td>0</td>\n",
       "      <td>74</td>\n",
       "      <td>20</td>\n",
       "      <td>23</td>\n",
       "      <td>27.7</td>\n",
       "      <td>0.299</td>\n",
       "      <td>21</td>\n",
       "      <td>0</td>\n",
       "    </tr>\n",
       "    <tr>\n",
       "      <td>623</td>\n",
       "      <td>0</td>\n",
       "      <td>94</td>\n",
       "      <td>70</td>\n",
       "      <td>27</td>\n",
       "      <td>115</td>\n",
       "      <td>43.5</td>\n",
       "      <td>0.347</td>\n",
       "      <td>21</td>\n",
       "      <td>0</td>\n",
       "    </tr>\n",
       "  </tbody>\n",
       "</table>\n",
       "</div>"
      ],
      "text/plain": [
       "     num_preg  glucose_con  Diastolic_bp  Thckness  Insulin   BMI  Diab_pred  \\\n",
       "255         1          113            64        35        0  33.6      0.543   \n",
       "60          2           84             0         0        0   0.0      0.304   \n",
       "102         0          125            96         0        0  22.5      0.262   \n",
       "182         1            0            74        20       23  27.7      0.299   \n",
       "623         0           94            70        27      115  43.5      0.347   \n",
       "\n",
       "     Age  Target  \n",
       "255   21       1  \n",
       "60    21       0  \n",
       "102   21       0  \n",
       "182   21       0  \n",
       "623   21       0  "
      ]
     },
     "execution_count": 11,
     "metadata": {},
     "output_type": "execute_result"
    }
   ],
   "source": [
    "dro=data.dropna()\n",
    "dro.head()             "
   ]
  },
  {
   "cell_type": "code",
   "execution_count": 12,
   "metadata": {},
   "outputs": [
    {
     "data": {
      "text/plain": [
       "768"
      ]
     },
     "execution_count": 12,
     "metadata": {},
     "output_type": "execute_result"
    }
   ],
   "source": [
    "len(dro)       #here we have no any NAN values in our dataset      "
   ]
  },
  {
   "cell_type": "markdown",
   "metadata": {},
   "source": [
    "# Here we Distribute our dataset in  two group"
   ]
  },
  {
   "cell_type": "code",
   "execution_count": 126,
   "metadata": {},
   "outputs": [],
   "source": [
    "#first we distribute our dataset into two variable \n",
    "x=dro.drop(['Target','Age'],axis='columns').values \n",
    "                                 \n",
    "y=dro.Target.values\n"
   ]
  },
  {
   "cell_type": "markdown",
   "metadata": {},
   "source": [
    "# Here we Normalized our Datasets"
   ]
  },
  {
   "cell_type": "code",
   "execution_count": null,
   "metadata": {},
   "outputs": [],
   "source": []
  },
  {
   "cell_type": "code",
   "execution_count": 15,
   "metadata": {},
   "outputs": [
    {
     "data": {
      "text/html": [
       "<div>\n",
       "<style scoped>\n",
       "    .dataframe tbody tr th:only-of-type {\n",
       "        vertical-align: middle;\n",
       "    }\n",
       "\n",
       "    .dataframe tbody tr th {\n",
       "        vertical-align: top;\n",
       "    }\n",
       "\n",
       "    .dataframe thead th {\n",
       "        text-align: right;\n",
       "    }\n",
       "</style>\n",
       "<table border=\"1\" class=\"dataframe\">\n",
       "  <thead>\n",
       "    <tr style=\"text-align: right;\">\n",
       "      <th></th>\n",
       "      <th>num_preg</th>\n",
       "      <th>glucose_con</th>\n",
       "      <th>Diastolic_bp</th>\n",
       "      <th>Thckness</th>\n",
       "      <th>Insulin</th>\n",
       "      <th>BMI</th>\n",
       "      <th>Diab_pred</th>\n",
       "      <th>Age</th>\n",
       "      <th>Target</th>\n",
       "    </tr>\n",
       "  </thead>\n",
       "  <tbody>\n",
       "    <tr>\n",
       "      <td>255</td>\n",
       "      <td>0.058824</td>\n",
       "      <td>0.567839</td>\n",
       "      <td>0.524590</td>\n",
       "      <td>0.353535</td>\n",
       "      <td>0.000000</td>\n",
       "      <td>0.500745</td>\n",
       "      <td>0.198548</td>\n",
       "      <td>21</td>\n",
       "      <td>1</td>\n",
       "    </tr>\n",
       "    <tr>\n",
       "      <td>60</td>\n",
       "      <td>0.117647</td>\n",
       "      <td>0.422111</td>\n",
       "      <td>0.000000</td>\n",
       "      <td>0.000000</td>\n",
       "      <td>0.000000</td>\n",
       "      <td>0.000000</td>\n",
       "      <td>0.096499</td>\n",
       "      <td>21</td>\n",
       "      <td>0</td>\n",
       "    </tr>\n",
       "    <tr>\n",
       "      <td>102</td>\n",
       "      <td>0.000000</td>\n",
       "      <td>0.628141</td>\n",
       "      <td>0.786885</td>\n",
       "      <td>0.000000</td>\n",
       "      <td>0.000000</td>\n",
       "      <td>0.335320</td>\n",
       "      <td>0.078565</td>\n",
       "      <td>21</td>\n",
       "      <td>0</td>\n",
       "    </tr>\n",
       "    <tr>\n",
       "      <td>182</td>\n",
       "      <td>0.058824</td>\n",
       "      <td>0.000000</td>\n",
       "      <td>0.606557</td>\n",
       "      <td>0.202020</td>\n",
       "      <td>0.027187</td>\n",
       "      <td>0.412817</td>\n",
       "      <td>0.094364</td>\n",
       "      <td>21</td>\n",
       "      <td>0</td>\n",
       "    </tr>\n",
       "    <tr>\n",
       "      <td>623</td>\n",
       "      <td>0.000000</td>\n",
       "      <td>0.472362</td>\n",
       "      <td>0.573770</td>\n",
       "      <td>0.272727</td>\n",
       "      <td>0.135934</td>\n",
       "      <td>0.648286</td>\n",
       "      <td>0.114859</td>\n",
       "      <td>21</td>\n",
       "      <td>0</td>\n",
       "    </tr>\n",
       "  </tbody>\n",
       "</table>\n",
       "</div>"
      ],
      "text/plain": [
       "     num_preg  glucose_con  Diastolic_bp  Thckness   Insulin       BMI  \\\n",
       "255  0.058824     0.567839      0.524590  0.353535  0.000000  0.500745   \n",
       "60   0.117647     0.422111      0.000000  0.000000  0.000000  0.000000   \n",
       "102  0.000000     0.628141      0.786885  0.000000  0.000000  0.335320   \n",
       "182  0.058824     0.000000      0.606557  0.202020  0.027187  0.412817   \n",
       "623  0.000000     0.472362      0.573770  0.272727  0.135934  0.648286   \n",
       "\n",
       "     Diab_pred  Age  Target  \n",
       "255   0.198548   21       1  \n",
       "60    0.096499   21       0  \n",
       "102   0.078565   21       0  \n",
       "182   0.094364   21       0  \n",
       "623   0.114859   21       0  "
      ]
     },
     "execution_count": 15,
     "metadata": {},
     "output_type": "execute_result"
    }
   ],
   "source": [
    "# Now we Normalze our dataset\n",
    "from sklearn import preprocessing\n",
    " #returns a numpy array\n",
    "min_max_scaler = preprocessing.MinMaxScaler()\n",
    "x_scaled = min_max_scaler.fit_transform(x)\n",
    "Norm=pd.DataFrame(x_scaled,index=dro.index,columns=dro.columns[0:7])\n",
    "Norm['Age']=dro[\"Age\"]\n",
    "Norm['Target']=dro['Target']\n",
    "Norm.head()\n",
    "\n",
    "#after the normalization we apply squirel algorithm to find the feature"
   ]
  },
  {
   "cell_type": "markdown",
   "metadata": {},
   "source": [
    "# Here we identify our important features to the help of Algorithm"
   ]
  },
  {
   "cell_type": "code",
   "execution_count": 130,
   "metadata": {},
   "outputs": [
    {
     "name": "stderr",
     "output_type": "stream",
     "text": [
      "C:\\Users\\hamza jamil\\Anaconda3\\lib\\site-packages\\sklearn\\ensemble\\forest.py:245: FutureWarning: The default value of n_estimators will change from 10 in version 0.20 to 100 in 0.22.\n",
      "  \"10 in version 0.20 to 100 in 0.22.\", FutureWarning)\n"
     ]
    },
    {
     "data": {
      "image/png": "[encoded data removed]",
      "text/plain": [
       "<Figure size 640x480 with 1 Axes>"
      ]
     },
     "metadata": {},
     "output_type": "display_data"
    }
   ],
   "source": [
    "from mlxtend.feature_selection import SequentialFeatureSelector as SFS\n",
    "def Squirrel(algo_namem,features_nums):\n",
    "    sfs_name=SFS(algo_namem, \n",
    "                k_features=features_nums, \n",
    "                forward=True, \n",
    "                floating=False,)\n",
    "    return sfs_name\n",
    "Squirrel=Featuree()\n",
    "Squirrel.fit(x,y)\n",
    "feature_importance = Squirrel.feature_importances_\n",
    "feat_importances = pd.Series(Squirrel.feature_importances_, d.columns[0:7])\n",
    "feat_importances = feat_importances.nlargest(13)\n",
    "\n",
    "feature = d.columns.values.tolist()[0:7]\n",
    "importance = sorted(Squirrel.feature_importances_.tolist())\n",
    "\n",
    "\n",
    "x_pos = [i for i, _ in enumerate(feature)]\n",
    "\n",
    "plt.barh(x_pos, importance , color='dodgerblue')\n",
    "plt.ylabel(\"feature\")\n",
    "plt.xlabel(\"importance\")\n",
    "plt.title(\"feature_importances\")\n",
    "\n",
    "plt.yticks(x_pos, feature)\n",
    "\n",
    "plt.show()"
   ]
  },
  {
   "cell_type": "code",
   "execution_count": 131,
   "metadata": {},
   "outputs": [],
   "source": [
    "# now here we pick up the feature with given visualization grap\n",
    "x=Norm.drop([\"Target\"],axis='columns')\n",
    "y=Norm.Target"
   ]
  },
  {
   "cell_type": "code",
   "execution_count": 132,
   "metadata": {},
   "outputs": [
    {
     "data": {
      "text/html": [
       "<div>\n",
       "<style scoped>\n",
       "    .dataframe tbody tr th:only-of-type {\n",
       "        vertical-align: middle;\n",
       "    }\n",
       "\n",
       "    .dataframe tbody tr th {\n",
       "        vertical-align: top;\n",
       "    }\n",
       "\n",
       "    .dataframe thead th {\n",
       "        text-align: right;\n",
       "    }\n",
       "</style>\n",
       "<table border=\"1\" class=\"dataframe\">\n",
       "  <thead>\n",
       "    <tr style=\"text-align: right;\">\n",
       "      <th></th>\n",
       "      <th>num_preg</th>\n",
       "      <th>glucose_con</th>\n",
       "      <th>Diastolic_bp</th>\n",
       "      <th>Thckness</th>\n",
       "      <th>Insulin</th>\n",
       "      <th>BMI</th>\n",
       "      <th>Diab_pred</th>\n",
       "      <th>Age</th>\n",
       "    </tr>\n",
       "  </thead>\n",
       "  <tbody>\n",
       "    <tr>\n",
       "      <td>255</td>\n",
       "      <td>0.058824</td>\n",
       "      <td>0.567839</td>\n",
       "      <td>0.524590</td>\n",
       "      <td>0.353535</td>\n",
       "      <td>0.000000</td>\n",
       "      <td>0.500745</td>\n",
       "      <td>0.198548</td>\n",
       "      <td>21</td>\n",
       "    </tr>\n",
       "    <tr>\n",
       "      <td>60</td>\n",
       "      <td>0.117647</td>\n",
       "      <td>0.422111</td>\n",
       "      <td>0.000000</td>\n",
       "      <td>0.000000</td>\n",
       "      <td>0.000000</td>\n",
       "      <td>0.000000</td>\n",
       "      <td>0.096499</td>\n",
       "      <td>21</td>\n",
       "    </tr>\n",
       "    <tr>\n",
       "      <td>102</td>\n",
       "      <td>0.000000</td>\n",
       "      <td>0.628141</td>\n",
       "      <td>0.786885</td>\n",
       "      <td>0.000000</td>\n",
       "      <td>0.000000</td>\n",
       "      <td>0.335320</td>\n",
       "      <td>0.078565</td>\n",
       "      <td>21</td>\n",
       "    </tr>\n",
       "    <tr>\n",
       "      <td>182</td>\n",
       "      <td>0.058824</td>\n",
       "      <td>0.000000</td>\n",
       "      <td>0.606557</td>\n",
       "      <td>0.202020</td>\n",
       "      <td>0.027187</td>\n",
       "      <td>0.412817</td>\n",
       "      <td>0.094364</td>\n",
       "      <td>21</td>\n",
       "    </tr>\n",
       "    <tr>\n",
       "      <td>623</td>\n",
       "      <td>0.000000</td>\n",
       "      <td>0.472362</td>\n",
       "      <td>0.573770</td>\n",
       "      <td>0.272727</td>\n",
       "      <td>0.135934</td>\n",
       "      <td>0.648286</td>\n",
       "      <td>0.114859</td>\n",
       "      <td>21</td>\n",
       "    </tr>\n",
       "  </tbody>\n",
       "</table>\n",
       "</div>"
      ],
      "text/plain": [
       "     num_preg  glucose_con  Diastolic_bp  Thckness   Insulin       BMI  \\\n",
       "255  0.058824     0.567839      0.524590  0.353535  0.000000  0.500745   \n",
       "60   0.117647     0.422111      0.000000  0.000000  0.000000  0.000000   \n",
       "102  0.000000     0.628141      0.786885  0.000000  0.000000  0.335320   \n",
       "182  0.058824     0.000000      0.606557  0.202020  0.027187  0.412817   \n",
       "623  0.000000     0.472362      0.573770  0.272727  0.135934  0.648286   \n",
       "\n",
       "     Diab_pred  Age  \n",
       "255   0.198548   21  \n",
       "60    0.096499   21  \n",
       "102   0.078565   21  \n",
       "182   0.094364   21  \n",
       "623   0.114859   21  "
      ]
     },
     "execution_count": 132,
     "metadata": {},
     "output_type": "execute_result"
    }
   ],
   "source": [
    "x.head()"
   ]
  },
  {
   "cell_type": "markdown",
   "metadata": {},
   "source": [
    "# here we Split Our dataset into training & testing"
   ]
  },
  {
   "cell_type": "code",
   "execution_count": 88,
   "metadata": {},
   "outputs": [],
   "source": [
    "from sklearn.model_selection import train_test_split\n",
    "X_train, X_test, y_train, y_test = train_test_split(x, y, test_size = 0.30, random_state = 0)\n"
   ]
  },
  {
   "cell_type": "markdown",
   "metadata": {},
   "source": [
    "#  here we Apply Artifical Neural Network"
   ]
  },
  {
   "cell_type": "code",
   "execution_count": 89,
   "metadata": {},
   "outputs": [],
   "source": [
    "import numpy as np\n",
    "from keras.models import Sequential\n",
    "from keras.layers import Dense,Activation,Dropout,BatchNormalization,Flatten\n",
    "from keras.layers.convolutional import Conv2D,MaxPooling2D\n",
    "from keras.utils import np_utils"
   ]
  },
  {
   "cell_type": "markdown",
   "metadata": {},
   "source": [
    "# Here we create Neuron for our ANN"
   ]
  },
  {
   "cell_type": "code",
   "execution_count": 137,
   "metadata": {
    "scrolled": true
   },
   "outputs": [
    {
     "name": "stderr",
     "output_type": "stream",
     "text": [
      "C:\\Users\\hamza jamil\\Anaconda3\\lib\\site-packages\\ipykernel_launcher.py:3: UserWarning: Update your `Dense` call to the Keras 2 API: `Dense(8, input_dim=8, activation=\"relu\", kernel_initializer=\"uniform\")`\n",
      "  This is separate from the ipykernel package so we can avoid doing imports until\n"
     ]
    }
   ],
   "source": [
    "#here we create Neural Network Layer\n",
    "model = Sequential()\n",
    "model.add(Dense(8, input_dim=8, init='uniform', activation='relu'))\n",
    "model.add(Dense(30,  activation='relu'))\n",
    "model.add(Dense(1,  activation='sigmoid'))"
   ]
  },
  {
   "cell_type": "code",
   "execution_count": 138,
   "metadata": {},
   "outputs": [
    {
     "name": "stdout",
     "output_type": "stream",
     "text": [
      "_________________________________________________________________\n",
      "Layer (type)                 Output Shape              Param #   \n",
      "=================================================================\n",
      "dense_7 (Dense)              (None, 8)                 72        \n",
      "_________________________________________________________________\n",
      "dense_8 (Dense)              (None, 30)                270       \n",
      "_________________________________________________________________\n",
      "dense_9 (Dense)              (None, 1)                 31        \n",
      "=================================================================\n",
      "Total params: 373\n",
      "Trainable params: 373\n",
      "Non-trainable params: 0\n",
      "_________________________________________________________________\n"
     ]
    }
   ],
   "source": [
    "model.summary()  #this is our summary of neuron in ANN"
   ]
  },
  {
   "cell_type": "markdown",
   "metadata": {},
   "source": [
    "# Here we compile our model with Binary Cross Entropy"
   ]
  },
  {
   "cell_type": "code",
   "execution_count": 139,
   "metadata": {},
   "outputs": [],
   "source": [
    "#here we compile our ANN\n",
    "model.compile(loss='binary_crossentropy', optimizer='adam', metrics=['accuracy'])\n"
   ]
  },
  {
   "cell_type": "markdown",
   "metadata": {},
   "source": [
    "#  Training Phase"
   ]
  },
  {
   "cell_type": "code",
   "execution_count": 142,
   "metadata": {},
   "outputs": [
    {
     "name": "stdout",
     "output_type": "stream",
     "text": [
      "Train on 537 samples, validate on 231 samples\n",
      "Epoch 1/30\n",
      "160/537 [=======>......................] - ETA: 0s - loss: 0.5386 - acc: 0.7188"
     ]
    },
    {
     "name": "stderr",
     "output_type": "stream",
     "text": [
      "C:\\Users\\hamza jamil\\Anaconda3\\lib\\site-packages\\ipykernel_launcher.py:1: UserWarning: The `nb_epoch` argument in `fit` has been renamed `epochs`.\n",
      "  \"\"\"Entry point for launching an IPython kernel.\n"
     ]
    },
    {
     "name": "stdout",
     "output_type": "stream",
     "text": [
      "537/537 [==============================] - 0s 669us/step - loss: 0.5730 - acc: 0.6797 - val_loss: 0.5792 - val_acc: 0.6364\n",
      "Epoch 2/30\n",
      "537/537 [==============================] - 0s 437us/step - loss: 0.5668 - acc: 0.6927 - val_loss: 0.5977 - val_acc: 0.6450\n",
      "Epoch 3/30\n",
      "537/537 [==============================] - 0s 479us/step - loss: 0.5660 - acc: 0.6946 - val_loss: 0.5612 - val_acc: 0.7100\n",
      "Epoch 4/30\n",
      "537/537 [==============================] - 0s 415us/step - loss: 0.5706 - acc: 0.6890 - val_loss: 0.5608 - val_acc: 0.7100\n",
      "Epoch 5/30\n",
      "537/537 [==============================] - 0s 451us/step - loss: 0.5602 - acc: 0.7058 - val_loss: 0.5560 - val_acc: 0.7056\n",
      "Epoch 6/30\n",
      "537/537 [==============================] - 0s 504us/step - loss: 0.5582 - acc: 0.7095 - val_loss: 0.5561 - val_acc: 0.7056\n",
      "Epoch 7/30\n",
      "537/537 [==============================] - 0s 444us/step - loss: 0.5588 - acc: 0.7114 - val_loss: 0.5521 - val_acc: 0.7100\n",
      "Epoch 8/30\n",
      "537/537 [==============================] - 0s 502us/step - loss: 0.5521 - acc: 0.6909 - val_loss: 0.5587 - val_acc: 0.6970\n",
      "Epoch 9/30\n",
      "537/537 [==============================] - 0s 436us/step - loss: 0.5487 - acc: 0.7095 - val_loss: 0.5769 - val_acc: 0.6710\n",
      "Epoch 10/30\n",
      "537/537 [==============================] - 0s 435us/step - loss: 0.5385 - acc: 0.7449 - val_loss: 0.5412 - val_acc: 0.7056\n",
      "Epoch 11/30\n",
      "537/537 [==============================] - 0s 431us/step - loss: 0.5410 - acc: 0.7281 - val_loss: 0.5424 - val_acc: 0.7186\n",
      "Epoch 12/30\n",
      "537/537 [==============================] - 0s 487us/step - loss: 0.5323 - acc: 0.7318 - val_loss: 0.5321 - val_acc: 0.7143\n",
      "Epoch 13/30\n",
      "537/537 [==============================] - 0s 514us/step - loss: 0.5334 - acc: 0.7337 - val_loss: 0.5415 - val_acc: 0.7100\n",
      "Epoch 14/30\n",
      "537/537 [==============================] - 0s 520us/step - loss: 0.5370 - acc: 0.7169 - val_loss: 0.5300 - val_acc: 0.7186\n",
      "Epoch 15/30\n",
      "537/537 [==============================] - 0s 540us/step - loss: 0.5321 - acc: 0.7263 - val_loss: 0.5403 - val_acc: 0.7056\n",
      "Epoch 16/30\n",
      "537/537 [==============================] - 0s 563us/step - loss: 0.5307 - acc: 0.7263 - val_loss: 0.5224 - val_acc: 0.7532\n",
      "Epoch 17/30\n",
      "537/537 [==============================] - 0s 489us/step - loss: 0.5306 - acc: 0.7393 - val_loss: 0.5191 - val_acc: 0.7316\n",
      "Epoch 18/30\n",
      "537/537 [==============================] - 0s 470us/step - loss: 0.5229 - acc: 0.7616 - val_loss: 0.5280 - val_acc: 0.7273\n",
      "Epoch 19/30\n",
      "537/537 [==============================] - 0s 539us/step - loss: 0.5216 - acc: 0.7337 - val_loss: 0.5237 - val_acc: 0.7359\n",
      "Epoch 20/30\n",
      "537/537 [==============================] - 0s 505us/step - loss: 0.5196 - acc: 0.7412 - val_loss: 0.5553 - val_acc: 0.6840\n",
      "Epoch 21/30\n",
      "537/537 [==============================] - 0s 546us/step - loss: 0.5144 - acc: 0.7542 - val_loss: 0.5146 - val_acc: 0.7359\n",
      "Epoch 22/30\n",
      "537/537 [==============================] - 0s 780us/step - loss: 0.5203 - acc: 0.7430 - val_loss: 0.5149 - val_acc: 0.7489\n",
      "Epoch 23/30\n",
      "537/537 [==============================] - 0s 509us/step - loss: 0.5137 - acc: 0.7505 - val_loss: 0.5420 - val_acc: 0.7013\n",
      "Epoch 24/30\n",
      "537/537 [==============================] - 0s 676us/step - loss: 0.5138 - acc: 0.7467 - val_loss: 0.5077 - val_acc: 0.7489\n",
      "Epoch 25/30\n",
      "537/537 [==============================] - 0s 745us/step - loss: 0.5119 - acc: 0.7598 - val_loss: 0.5085 - val_acc: 0.7532\n",
      "Epoch 26/30\n",
      "537/537 [==============================] - 0s 513us/step - loss: 0.5089 - acc: 0.7505 - val_loss: 0.5020 - val_acc: 0.7446\n",
      "Epoch 27/30\n",
      "537/537 [==============================] - 0s 461us/step - loss: 0.5070 - acc: 0.7616 - val_loss: 0.5252 - val_acc: 0.7186\n",
      "Epoch 28/30\n",
      "537/537 [==============================] - 0s 518us/step - loss: 0.5055 - acc: 0.7654 - val_loss: 0.5010 - val_acc: 0.7532\n",
      "Epoch 29/30\n",
      "537/537 [==============================] - 0s 660us/step - loss: 0.5028 - acc: 0.7672 - val_loss: 0.4964 - val_acc: 0.7576\n",
      "Epoch 30/30\n",
      "537/537 [==============================] - 0s 589us/step - loss: 0.5074 - acc: 0.7542 - val_loss: 0.5008 - val_acc: 0.7532\n"
     ]
    },
    {
     "data": {
      "text/plain": [
       "<keras.callbacks.History at 0x253f8547e48>"
      ]
     },
     "execution_count": 142,
     "metadata": {},
     "output_type": "execute_result"
    }
   ],
   "source": [
    "de=model.fit(X_train, y_train, validation_data=(X_test, y_test), nb_epoch=30, batch_size=4)\n",
    "de"
   ]
  },
  {
   "cell_type": "markdown",
   "metadata": {},
   "source": [
    "# Model Accuracy"
   ]
  },
  {
   "cell_type": "code",
   "execution_count": 143,
   "metadata": {},
   "outputs": [
    {
     "name": "stdout",
     "output_type": "stream",
     "text": [
      "231/231 [==============================] - 0s 80us/step\n",
      "accuracy: 75.32%\n"
     ]
    }
   ],
   "source": [
    "scores = model.evaluate(X_test, y_test)\n",
    "\n",
    "print(\"accuracy: %.2f%%\" %(scores[1]*100))\n"
   ]
  },
  {
   "cell_type": "markdown",
   "metadata": {},
   "source": [
    "# Testing Phase or prediction Phase"
   ]
  },
  {
   "cell_type": "code",
   "execution_count": 144,
   "metadata": {},
   "outputs": [
    {
     "data": {
      "text/plain": [
       "array([[0.10121083],\n",
       "       [0.5730343 ],\n",
       "       [0.08701357],\n",
       "       [0.78603697],\n",
       "       [0.22969136],\n",
       "       [0.22770295],\n",
       "       [0.3040149 ],\n",
       "       [0.68404293],\n",
       "       [0.4047493 ],\n",
       "       [0.07561126],\n",
       "       [0.10667419],\n",
       "       [0.61954266],\n",
       "       [0.15516639],\n",
       "       [0.15240276],\n",
       "       [0.40555954],\n",
       "       [0.25751847],\n",
       "       [0.38736722],\n",
       "       [0.22272989],\n",
       "       [0.75928396],\n",
       "       [0.47450608],\n",
       "       [0.32363796],\n",
       "       [0.12367311],\n",
       "       [0.26883993],\n",
       "       [0.41810486],\n",
       "       [0.2787934 ],\n",
       "       [0.3654092 ],\n",
       "       [0.6703037 ],\n",
       "       [0.4115484 ],\n",
       "       [0.10188153],\n",
       "       [0.35896674],\n",
       "       [0.524399  ],\n",
       "       [0.97541213],\n",
       "       [0.2466965 ],\n",
       "       [0.7759744 ],\n",
       "       [0.4018069 ],\n",
       "       [0.4531701 ],\n",
       "       [0.5760771 ],\n",
       "       [0.08550206],\n",
       "       [0.39406744],\n",
       "       [0.23898482],\n",
       "       [0.07966131],\n",
       "       [0.20555443],\n",
       "       [0.71393645],\n",
       "       [0.5844488 ],\n",
       "       [0.18468723],\n",
       "       [0.07905647],\n",
       "       [0.6065322 ],\n",
       "       [0.3943642 ],\n",
       "       [0.1607408 ],\n",
       "       [0.44624707],\n",
       "       [0.47964573],\n",
       "       [0.18739742],\n",
       "       [0.25252837],\n",
       "       [0.27809438],\n",
       "       [0.09048653],\n",
       "       [0.12352189],\n",
       "       [0.06793675],\n",
       "       [0.11731052],\n",
       "       [0.3932088 ],\n",
       "       [0.4844107 ],\n",
       "       [0.8055664 ],\n",
       "       [0.6438848 ],\n",
       "       [0.76162404],\n",
       "       [0.09443954],\n",
       "       [0.18685171],\n",
       "       [0.3720638 ],\n",
       "       [0.15926766],\n",
       "       [0.37115562],\n",
       "       [0.18985677],\n",
       "       [0.13596842],\n",
       "       [0.57886523],\n",
       "       [0.0790424 ],\n",
       "       [0.12769786],\n",
       "       [0.56758595],\n",
       "       [0.24977475],\n",
       "       [0.37335488],\n",
       "       [0.18313491],\n",
       "       [0.15667245],\n",
       "       [0.5007982 ],\n",
       "       [0.4098997 ],\n",
       "       [0.48188034],\n",
       "       [0.10343173],\n",
       "       [0.07204813],\n",
       "       [0.13636729],\n",
       "       [0.5823526 ],\n",
       "       [0.13217244],\n",
       "       [0.5507207 ],\n",
       "       [0.13190365],\n",
       "       [0.441615  ],\n",
       "       [0.77169526],\n",
       "       [0.37595063],\n",
       "       [0.06724638],\n",
       "       [0.5819116 ],\n",
       "       [0.18412328],\n",
       "       [0.3815391 ],\n",
       "       [0.18198952],\n",
       "       [0.4667867 ],\n",
       "       [0.29972833],\n",
       "       [0.07580823],\n",
       "       [0.1718575 ],\n",
       "       [0.0865863 ],\n",
       "       [0.0669032 ],\n",
       "       [0.34889615],\n",
       "       [0.1919877 ],\n",
       "       [0.13853416],\n",
       "       [0.68170464],\n",
       "       [0.87731886],\n",
       "       [0.27478892],\n",
       "       [0.2552226 ],\n",
       "       [0.08887988],\n",
       "       [0.10321781],\n",
       "       [0.09813502],\n",
       "       [0.76294756],\n",
       "       [0.53397286],\n",
       "       [0.39494514],\n",
       "       [0.32054827],\n",
       "       [0.22324374],\n",
       "       [0.08850721],\n",
       "       [0.5247243 ],\n",
       "       [0.29988736],\n",
       "       [0.36476463],\n",
       "       [0.73539263],\n",
       "       [0.3250813 ],\n",
       "       [0.4078476 ],\n",
       "       [0.5074507 ],\n",
       "       [0.41000694],\n",
       "       [0.23252425],\n",
       "       [0.49823487],\n",
       "       [0.26711065],\n",
       "       [0.8231133 ],\n",
       "       [0.16788098],\n",
       "       [0.23954162],\n",
       "       [0.10149145],\n",
       "       [0.09862924],\n",
       "       [0.5255302 ],\n",
       "       [0.1407353 ],\n",
       "       [0.5549208 ],\n",
       "       [0.08316511],\n",
       "       [0.8714851 ],\n",
       "       [0.10596547],\n",
       "       [0.1698417 ],\n",
       "       [0.4933156 ],\n",
       "       [0.38451535],\n",
       "       [0.13353056],\n",
       "       [0.18401942],\n",
       "       [0.18881375],\n",
       "       [0.1348021 ],\n",
       "       [0.2864338 ],\n",
       "       [0.24040791],\n",
       "       [0.35503933],\n",
       "       [0.3804043 ],\n",
       "       [0.20704031],\n",
       "       [0.19809529],\n",
       "       [0.25700802],\n",
       "       [0.18306747],\n",
       "       [0.13063875],\n",
       "       [0.16034856],\n",
       "       [0.14193532],\n",
       "       [0.7665516 ],\n",
       "       [0.2452513 ],\n",
       "       [0.19319272],\n",
       "       [0.09586072],\n",
       "       [0.12466434],\n",
       "       [0.06621134],\n",
       "       [0.28347278],\n",
       "       [0.52501035],\n",
       "       [0.22032529],\n",
       "       [0.81692797],\n",
       "       [0.76990056],\n",
       "       [0.45020288],\n",
       "       [0.36334527],\n",
       "       [0.65888566],\n",
       "       [0.21524444],\n",
       "       [0.6344062 ],\n",
       "       [0.38522676],\n",
       "       [0.07902673],\n",
       "       [0.1344986 ],\n",
       "       [0.22140643],\n",
       "       [0.7180655 ],\n",
       "       [0.18278694],\n",
       "       [0.47590095],\n",
       "       [0.6445602 ],\n",
       "       [0.46065536],\n",
       "       [0.18092188],\n",
       "       [0.48874217],\n",
       "       [0.08352962],\n",
       "       [0.30897182],\n",
       "       [0.79630274],\n",
       "       [0.18838382],\n",
       "       [0.43551344],\n",
       "       [0.20203736],\n",
       "       [0.26728323],\n",
       "       [0.4082077 ],\n",
       "       [0.07555538],\n",
       "       [0.818371  ],\n",
       "       [0.12960589],\n",
       "       [0.47907263],\n",
       "       [0.12017617],\n",
       "       [0.12466165],\n",
       "       [0.06821015],\n",
       "       [0.23164323],\n",
       "       [0.64139146],\n",
       "       [0.20142081],\n",
       "       [0.38362733],\n",
       "       [0.25915435],\n",
       "       [0.43614733],\n",
       "       [0.6447762 ],\n",
       "       [0.2993724 ],\n",
       "       [0.2912779 ],\n",
       "       [0.46189153],\n",
       "       [0.5273317 ],\n",
       "       [0.32817435],\n",
       "       [0.401645  ],\n",
       "       [0.32707644],\n",
       "       [0.09659749],\n",
       "       [0.6310668 ],\n",
       "       [0.2721994 ],\n",
       "       [0.24065813],\n",
       "       [0.481753  ],\n",
       "       [0.7967088 ],\n",
       "       [0.173754  ],\n",
       "       [0.15629578],\n",
       "       [0.57868725],\n",
       "       [0.29273343],\n",
       "       [0.14917602],\n",
       "       [0.63590986],\n",
       "       [0.09024022],\n",
       "       [0.24395496],\n",
       "       [0.3696646 ],\n",
       "       [0.70814687],\n",
       "       [0.26680875]], dtype=float32)"
      ]
     },
     "execution_count": 144,
     "metadata": {},
     "output_type": "execute_result"
    }
   ],
   "source": [
    "Y_pred=model.predict(X_test)\n",
    "Y_pred# ths is our testing Phase"
   ]
  },
  {
   "cell_type": "code",
   "execution_count": 146,
   "metadata": {},
   "outputs": [
    {
     "data": {
      "text/plain": [
       "array([[0],\n",
       "       [1],\n",
       "       [0],\n",
       "       [1],\n",
       "       [0],\n",
       "       [0],\n",
       "       [0],\n",
       "       [1],\n",
       "       [0],\n",
       "       [0],\n",
       "       [0],\n",
       "       [1],\n",
       "       [0],\n",
       "       [0],\n",
       "       [0],\n",
       "       [0],\n",
       "       [0],\n",
       "       [0],\n",
       "       [1],\n",
       "       [0],\n",
       "       [0],\n",
       "       [0],\n",
       "       [0],\n",
       "       [0],\n",
       "       [0],\n",
       "       [0],\n",
       "       [1],\n",
       "       [0],\n",
       "       [0],\n",
       "       [0],\n",
       "       [1],\n",
       "       [1],\n",
       "       [0],\n",
       "       [1],\n",
       "       [0],\n",
       "       [0],\n",
       "       [1],\n",
       "       [0],\n",
       "       [0],\n",
       "       [0],\n",
       "       [0],\n",
       "       [0],\n",
       "       [1],\n",
       "       [1],\n",
       "       [0],\n",
       "       [0],\n",
       "       [1],\n",
       "       [0],\n",
       "       [0],\n",
       "       [0],\n",
       "       [0],\n",
       "       [0],\n",
       "       [0],\n",
       "       [0],\n",
       "       [0],\n",
       "       [0],\n",
       "       [0],\n",
       "       [0],\n",
       "       [0],\n",
       "       [0],\n",
       "       [1],\n",
       "       [1],\n",
       "       [1],\n",
       "       [0],\n",
       "       [0],\n",
       "       [0],\n",
       "       [0],\n",
       "       [0],\n",
       "       [0],\n",
       "       [0],\n",
       "       [1],\n",
       "       [0],\n",
       "       [0],\n",
       "       [1],\n",
       "       [0],\n",
       "       [0],\n",
       "       [0],\n",
       "       [0],\n",
       "       [1],\n",
       "       [0],\n",
       "       [0],\n",
       "       [0],\n",
       "       [0],\n",
       "       [0],\n",
       "       [1],\n",
       "       [0],\n",
       "       [1],\n",
       "       [0],\n",
       "       [0],\n",
       "       [1],\n",
       "       [0],\n",
       "       [0],\n",
       "       [1],\n",
       "       [0],\n",
       "       [0],\n",
       "       [0],\n",
       "       [0],\n",
       "       [0],\n",
       "       [0],\n",
       "       [0],\n",
       "       [0],\n",
       "       [0],\n",
       "       [0],\n",
       "       [0],\n",
       "       [0],\n",
       "       [1],\n",
       "       [1],\n",
       "       [0],\n",
       "       [0],\n",
       "       [0],\n",
       "       [0],\n",
       "       [0],\n",
       "       [1],\n",
       "       [1],\n",
       "       [0],\n",
       "       [0],\n",
       "       [0],\n",
       "       [0],\n",
       "       [1],\n",
       "       [0],\n",
       "       [0],\n",
       "       [1],\n",
       "       [0],\n",
       "       [0],\n",
       "       [1],\n",
       "       [0],\n",
       "       [0],\n",
       "       [0],\n",
       "       [0],\n",
       "       [1],\n",
       "       [0],\n",
       "       [0],\n",
       "       [0],\n",
       "       [0],\n",
       "       [1],\n",
       "       [0],\n",
       "       [1],\n",
       "       [0],\n",
       "       [1],\n",
       "       [0],\n",
       "       [0],\n",
       "       [0],\n",
       "       [0],\n",
       "       [0],\n",
       "       [0],\n",
       "       [0],\n",
       "       [0],\n",
       "       [0],\n",
       "       [0],\n",
       "       [0],\n",
       "       [0],\n",
       "       [0],\n",
       "       [0],\n",
       "       [0],\n",
       "       [0],\n",
       "       [0],\n",
       "       [0],\n",
       "       [0],\n",
       "       [1],\n",
       "       [0],\n",
       "       [0],\n",
       "       [0],\n",
       "       [0],\n",
       "       [0],\n",
       "       [0],\n",
       "       [1],\n",
       "       [0],\n",
       "       [1],\n",
       "       [1],\n",
       "       [0],\n",
       "       [0],\n",
       "       [1],\n",
       "       [0],\n",
       "       [1],\n",
       "       [0],\n",
       "       [0],\n",
       "       [0],\n",
       "       [0],\n",
       "       [1],\n",
       "       [0],\n",
       "       [0],\n",
       "       [1],\n",
       "       [0],\n",
       "       [0],\n",
       "       [0],\n",
       "       [0],\n",
       "       [0],\n",
       "       [1],\n",
       "       [0],\n",
       "       [0],\n",
       "       [0],\n",
       "       [0],\n",
       "       [0],\n",
       "       [0],\n",
       "       [1],\n",
       "       [0],\n",
       "       [0],\n",
       "       [0],\n",
       "       [0],\n",
       "       [0],\n",
       "       [0],\n",
       "       [1],\n",
       "       [0],\n",
       "       [0],\n",
       "       [0],\n",
       "       [0],\n",
       "       [1],\n",
       "       [0],\n",
       "       [0],\n",
       "       [0],\n",
       "       [1],\n",
       "       [0],\n",
       "       [0],\n",
       "       [0],\n",
       "       [0],\n",
       "       [1],\n",
       "       [0],\n",
       "       [0],\n",
       "       [0],\n",
       "       [1],\n",
       "       [0],\n",
       "       [0],\n",
       "       [1],\n",
       "       [0],\n",
       "       [0],\n",
       "       [1],\n",
       "       [0],\n",
       "       [0],\n",
       "       [0],\n",
       "       [1],\n",
       "       [0]])"
      ]
     },
     "execution_count": 146,
     "metadata": {},
     "output_type": "execute_result"
    }
   ],
   "source": [
    "pred_cl=model.predict_classes(X_test) # ths is our testing Phase\n",
    "pred_cl"
   ]
  },
  {
   "cell_type": "code",
   "execution_count": null,
   "metadata": {},
   "outputs": [],
   "source": []
  },
  {
   "cell_type": "markdown",
   "metadata": {},
   "source": [
    "# Classfication report of our Model with  precision, recall, accuracy"
   ]
  },
  {
   "cell_type": "code",
   "execution_count": 147,
   "metadata": {},
   "outputs": [
    {
     "name": "stdout",
     "output_type": "stream",
     "text": [
      "               precision    recall  f1-score   support\n",
      "\n",
      "    Patient 1       0.74      0.92      0.82       144\n",
      "Not Patient 0       0.79      0.47      0.59        87\n",
      "\n",
      "     accuracy                           0.75       231\n",
      "    macro avg       0.77      0.70      0.71       231\n",
      " weighted avg       0.76      0.75      0.74       231\n",
      "\n"
     ]
    }
   ],
   "source": [
    "from sklearn.metrics import classification_report,confusion_matrix\n",
    "targe = ['Patient 1', 'Not Patient 0']\n",
    "print(classification_report(y_test,pred_cl,target_names=targe))"
   ]
  },
  {
   "cell_type": "code",
   "execution_count": null,
   "metadata": {},
   "outputs": [],
   "source": []
  },
  {
   "cell_type": "markdown",
   "metadata": {},
   "source": [
    "# Instance Evaluation to the help of Confusion Metrix "
   ]
  },
  {
   "cell_type": "code",
   "execution_count": 148,
   "metadata": {
    "scrolled": true
   },
   "outputs": [
    {
     "name": "stdout",
     "output_type": "stream",
     "text": [
      "confusion metrix without normalize\n",
      "[[133  11]\n",
      " [ 46  41]]\n"
     ]
    },
    {
     "data": {
      "image/png": "[encoded data removed]",
      "text/plain": [
       "<Figure size 640x480 with 2 Axes>"
      ]
     },
     "metadata": {},
     "output_type": "display_data"
    }
   ],
   "source": [
    "from sklearn.metrics import confusion_matrix\n",
    "import itertools\n",
    "cm=confusion_matrix(y_test,pred_cl)\n",
    "\n",
    "def go(cm,classes,title='CONFUSOIN METRIX',normalize=False,cmap=plt.cm.Blues):\n",
    "    plt.imshow(cm,interpolation='nearest',cmap=cmap)\n",
    "    plt.title(title)\n",
    "    plt.colorbar()\n",
    "    tick_mark=np.arange(len(classes))\n",
    "    plt.xticks(tick_mark,classes,rotation=45)\n",
    "    plt.yticks(tick_mark,classes)\n",
    "    if normalize:\n",
    "        cm=cm.astype('float') / cm.sum(axis=1)[:,np.newaxis]\n",
    "        print(\"Normalize cnfusion metrix\")\n",
    "    else:\n",
    "        \n",
    "        print(\"confusion metrix without normalize\")\n",
    "    print(cm)    \n",
    "    thresh=cm.max() / 1\n",
    "    for i,j in itertools.product(range(cm.shape[0]),range(cm.shape[1])):\n",
    "        plt.text(j,i,cm[i,j],horizontalalignment='center',color='white' if cm[i,j] > thresh else 'black')\n",
    "    plt.tight_layout()\n",
    "    plt.ylabel('Trure Lable')\n",
    "    plt.xlabel('Predict lable')\n",
    "        \n",
    "    \n",
    "cm_lable=['no_side_effect','head_side_effect']    \n",
    "go(cm,cm_lable,title='confusoin metrix')\n",
    "    \n",
    "   \n",
    "    \n"
   ]
  },
  {
   "cell_type": "markdown",
   "metadata": {},
   "source": [
    "# ANN Model Loss visualization"
   ]
  },
  {
   "cell_type": "code",
   "execution_count": null,
   "metadata": {},
   "outputs": [],
   "source": []
  },
  {
   "cell_type": "code",
   "execution_count": 150,
   "metadata": {},
   "outputs": [
    {
     "name": "stdout",
     "output_type": "stream",
     "text": [
      "['bmh', 'classic', 'dark_background', 'fast', 'fivethirtyeight', 'ggplot', 'grayscale', 'seaborn-bright', 'seaborn-colorblind', 'seaborn-dark-palette', 'seaborn-dark', 'seaborn-darkgrid', 'seaborn-deep', 'seaborn-muted', 'seaborn-notebook', 'seaborn-paper', 'seaborn-pastel', 'seaborn-poster', 'seaborn-talk', 'seaborn-ticks', 'seaborn-white', 'seaborn-whitegrid', 'seaborn', 'Solarize_Light2', 'tableau-colorblind10', '_classic_test']\n"
     ]
    },
    {
     "data": {
      "image/png": "[encoded data removed]",
      "text/plain": [
       "<Figure size 560x400 with 1 Axes>"
      ]
     },
     "metadata": {},
     "output_type": "display_data"
    }
   ],
   "source": [
    "nb_epoch=30\n",
    "train_loss=de.history['loss']\n",
    "val_loss=de.history['val_loss']\n",
    "train_acc=de.history['acc']\n",
    "val_acc=de.history['val_acc']\n",
    "xc=range(nb_epoch)\n",
    "plt.figure(1,figsize=(7,5))\n",
    "plt.plot(xc,train_loss)\n",
    "plt.plot(xc,val_loss)\n",
    "plt.xlabel('num of Epochs')\n",
    "plt.ylabel('loss')\n",
    "plt.title('train_loss vs val_loss')\n",
    "plt.grid(True)\n",
    "plt.legend(['train','val'])\n",
    "print(plt.style.available) # use bmh, classic,ggplot for big pictures\n",
    "plt.style.use(['classic'])\n"
   ]
  },
  {
   "cell_type": "markdown",
   "metadata": {},
   "source": [
    "# ANN Model Accuracy visualization"
   ]
  },
  {
   "cell_type": "code",
   "execution_count": 151,
   "metadata": {},
   "outputs": [
    {
     "data": {
      "image/png": "[encoded data removed]",
      "text/plain": [
       "<Figure size 560x400 with 1 Axes>"
      ]
     },
     "metadata": {},
     "output_type": "display_data"
    }
   ],
   "source": [
    "plt.figure(2,figsize=(7,5))\n",
    "plt.plot(xc,train_acc)\n",
    "plt.plot(xc,val_acc)\n",
    "plt.xlabel('num of Epochs')\n",
    "plt.ylabel('accuracy')\n",
    "plt.title('train_acc vs val_acc')\n",
    "plt.grid(True)\n",
    "plt.legend(['train','val'],loc=4)\n",
    "#print plt.style.available # use bmh, classic,ggplot for big pictures\n",
    "plt.style.use(['classic'])"
   ]
  },
  {
   "cell_type": "code",
   "execution_count": null,
   "metadata": {},
   "outputs": [],
   "source": []
  },
  {
   "cell_type": "markdown",
   "metadata": {},
   "source": [
    "# Now we apply DLMNN [Deep learning Modifed Neural Network]"
   ]
  },
  {
   "cell_type": "code",
   "execution_count": null,
   "metadata": {},
   "outputs": [],
   "source": []
  },
  {
   "cell_type": "code",
   "execution_count": 153,
   "metadata": {},
   "outputs": [],
   "source": [
    "import numpy as np\n",
    "import tensorflow as tf\n",
    "from keras.models import Sequential\n",
    "from keras.layers import Dense,Activation,Dropout,BatchNormalization,Flatten\n",
    "from keras.layers.convolutional import Conv2D,MaxPooling2D\n",
    "from keras.utils import np_utils\n"
   ]
  },
  {
   "cell_type": "markdown",
   "metadata": {},
   "source": [
    "# Here we create  Deep Neuron for DLMNN"
   ]
  },
  {
   "cell_type": "code",
   "execution_count": 160,
   "metadata": {},
   "outputs": [
    {
     "name": "stderr",
     "output_type": "stream",
     "text": [
      "C:\\Users\\hamza jamil\\Anaconda3\\lib\\site-packages\\ipykernel_launcher.py:2: UserWarning: Update your `Dense` call to the Keras 2 API: `Dense(8, input_dim=8, activation=\"relu\", kernel_initializer=\"uniform\")`\n",
      "  \n"
     ]
    }
   ],
   "source": [
    "mode = Sequential()\n",
    "mode.add(Dense(8, input_dim=8, init='uniform', activation='relu'))\n",
    "mode.add(Dense(30,  activation='relu'))\n",
    "mode.add(Dense(40,  activation='relu'))\n",
    "mode.add(Dense(50,  activation='relu'))\n",
    "mode.add(Dense(60,  activation='relu'))\n",
    "mode.add(Dense(70,  activation='relu'))\n",
    "mode.add(Dense(80,  activation='relu'))\n",
    "mode.add(Dense(1,  activation='sigmoid'))"
   ]
  },
  {
   "cell_type": "code",
   "execution_count": 161,
   "metadata": {},
   "outputs": [
    {
     "name": "stdout",
     "output_type": "stream",
     "text": [
      "_________________________________________________________________\n",
      "Layer (type)                 Output Shape              Param #   \n",
      "=================================================================\n",
      "dense_28 (Dense)             (None, 8)                 72        \n",
      "_________________________________________________________________\n",
      "dense_29 (Dense)             (None, 30)                270       \n",
      "_________________________________________________________________\n",
      "dense_30 (Dense)             (None, 40)                1240      \n",
      "_________________________________________________________________\n",
      "dense_31 (Dense)             (None, 50)                2050      \n",
      "_________________________________________________________________\n",
      "dense_32 (Dense)             (None, 60)                3060      \n",
      "_________________________________________________________________\n",
      "dense_33 (Dense)             (None, 70)                4270      \n",
      "_________________________________________________________________\n",
      "dense_34 (Dense)             (None, 80)                5680      \n",
      "_________________________________________________________________\n",
      "dense_35 (Dense)             (None, 1)                 81        \n",
      "=================================================================\n",
      "Total params: 16,723\n",
      "Trainable params: 16,723\n",
      "Non-trainable params: 0\n",
      "_________________________________________________________________\n"
     ]
    }
   ],
   "source": [
    "mode.summary()"
   ]
  },
  {
   "cell_type": "markdown",
   "metadata": {},
   "source": [
    "# DLMNN Complile with binary  Entropy"
   ]
  },
  {
   "cell_type": "code",
   "execution_count": 162,
   "metadata": {},
   "outputs": [],
   "source": [
    "mode.compile(loss='binary_crossentropy', optimizer='adam', metrics=['accuracy'])"
   ]
  },
  {
   "cell_type": "markdown",
   "metadata": {},
   "source": [
    "# Model Training Phase"
   ]
  },
  {
   "cell_type": "code",
   "execution_count": 163,
   "metadata": {
    "scrolled": true
   },
   "outputs": [
    {
     "name": "stderr",
     "output_type": "stream",
     "text": [
      "C:\\Users\\hamza jamil\\Anaconda3\\lib\\site-packages\\ipykernel_launcher.py:1: UserWarning: The `nb_epoch` argument in `fit` has been renamed `epochs`.\n",
      "  \"\"\"Entry point for launching an IPython kernel.\n"
     ]
    },
    {
     "name": "stdout",
     "output_type": "stream",
     "text": [
      "Train on 537 samples, validate on 231 samples\n",
      "Epoch 1/50\n",
      "537/537 [==============================] - 2s 3ms/step - loss: 0.6636 - acc: 0.6629 - val_loss: 0.6716 - val_acc: 0.6234\n",
      "Epoch 2/50\n",
      "537/537 [==============================] - 0s 531us/step - loss: 0.6475 - acc: 0.6629 - val_loss: 0.6639 - val_acc: 0.6234\n",
      "Epoch 3/50\n",
      "537/537 [==============================] - 0s 481us/step - loss: 0.6433 - acc: 0.6629 - val_loss: 0.6714 - val_acc: 0.6234\n",
      "Epoch 4/50\n",
      "537/537 [==============================] - 0s 507us/step - loss: 0.6383 - acc: 0.6629 - val_loss: 0.6433 - val_acc: 0.6234\n",
      "Epoch 5/50\n",
      "537/537 [==============================] - 0s 477us/step - loss: 0.6259 - acc: 0.6629 - val_loss: 0.6300 - val_acc: 0.6234\n",
      "Epoch 6/50\n",
      "537/537 [==============================] - 0s 507us/step - loss: 0.6081 - acc: 0.6629 - val_loss: 0.5960 - val_acc: 0.6234\n",
      "Epoch 7/50\n",
      "537/537 [==============================] - 0s 509us/step - loss: 0.6114 - acc: 0.6592 - val_loss: 0.6002 - val_acc: 0.6234\n",
      "Epoch 8/50\n",
      "537/537 [==============================] - 0s 514us/step - loss: 0.5987 - acc: 0.6611 - val_loss: 0.5904 - val_acc: 0.6234\n",
      "Epoch 9/50\n",
      "537/537 [==============================] - 0s 515us/step - loss: 0.5948 - acc: 0.6629 - val_loss: 0.5756 - val_acc: 0.6234\n",
      "Epoch 10/50\n",
      "537/537 [==============================] - 0s 570us/step - loss: 0.5901 - acc: 0.6629 - val_loss: 0.5866 - val_acc: 0.6234\n",
      "Epoch 11/50\n",
      "537/537 [==============================] - 0s 585us/step - loss: 0.5936 - acc: 0.6629 - val_loss: 0.6386 - val_acc: 0.6234\n",
      "Epoch 12/50\n",
      "537/537 [==============================] - 0s 588us/step - loss: 0.5855 - acc: 0.6629 - val_loss: 0.5661 - val_acc: 0.6234\n",
      "Epoch 13/50\n",
      "537/537 [==============================] - 0s 572us/step - loss: 0.5790 - acc: 0.6629 - val_loss: 0.5635 - val_acc: 0.6234\n",
      "Epoch 14/50\n",
      "537/537 [==============================] - 0s 627us/step - loss: 0.5778 - acc: 0.6629 - val_loss: 0.5620 - val_acc: 0.6234\n",
      "Epoch 15/50\n",
      "537/537 [==============================] - 0s 576us/step - loss: 0.5773 - acc: 0.6629 - val_loss: 0.5890 - val_acc: 0.6234\n",
      "Epoch 16/50\n",
      "537/537 [==============================] - 0s 590us/step - loss: 0.5763 - acc: 0.6629 - val_loss: 0.5624 - val_acc: 0.6234\n",
      "Epoch 17/50\n",
      "537/537 [==============================] - 0s 617us/step - loss: 0.5748 - acc: 0.6629 - val_loss: 0.5495 - val_acc: 0.6234\n",
      "Epoch 18/50\n",
      "537/537 [==============================] - 0s 600us/step - loss: 0.5793 - acc: 0.6629 - val_loss: 0.5485 - val_acc: 0.6234\n",
      "Epoch 19/50\n",
      "537/537 [==============================] - 0s 501us/step - loss: 0.5642 - acc: 0.6629 - val_loss: 0.5501 - val_acc: 0.6407\n",
      "Epoch 20/50\n",
      "537/537 [==============================] - 0s 516us/step - loss: 0.5643 - acc: 0.6667 - val_loss: 0.5463 - val_acc: 0.6407\n",
      "Epoch 21/50\n",
      "537/537 [==============================] - 0s 602us/step - loss: 0.5618 - acc: 0.6778 - val_loss: 0.5709 - val_acc: 0.6450\n",
      "Epoch 22/50\n",
      "537/537 [==============================] - 0s 519us/step - loss: 0.5514 - acc: 0.6723 - val_loss: 0.5360 - val_acc: 0.6797\n",
      "Epoch 23/50\n",
      "537/537 [==============================] - 0s 543us/step - loss: 0.5523 - acc: 0.7020 - val_loss: 0.5896 - val_acc: 0.7229\n",
      "Epoch 24/50\n",
      "537/537 [==============================] - 0s 552us/step - loss: 0.5641 - acc: 0.6741 - val_loss: 0.5434 - val_acc: 0.6840\n",
      "Epoch 25/50\n",
      "537/537 [==============================] - 0s 622us/step - loss: 0.5526 - acc: 0.6797 - val_loss: 0.5291 - val_acc: 0.6840\n",
      "Epoch 26/50\n",
      "537/537 [==============================] - 0s 474us/step - loss: 0.5544 - acc: 0.6816 - val_loss: 0.5236 - val_acc: 0.7359\n",
      "Epoch 27/50\n",
      "537/537 [==============================] - 0s 542us/step - loss: 0.5431 - acc: 0.6890 - val_loss: 0.5700 - val_acc: 0.6753\n",
      "Epoch 28/50\n",
      "537/537 [==============================] - 0s 515us/step - loss: 0.5405 - acc: 0.6983 - val_loss: 0.5398 - val_acc: 0.7403\n",
      "Epoch 29/50\n",
      "537/537 [==============================] - 0s 555us/step - loss: 0.5641 - acc: 0.6499 - val_loss: 0.5295 - val_acc: 0.6840\n",
      "Epoch 30/50\n",
      "537/537 [==============================] - 0s 567us/step - loss: 0.5382 - acc: 0.6797 - val_loss: 0.5261 - val_acc: 0.7489\n",
      "Epoch 31/50\n",
      "537/537 [==============================] - 0s 518us/step - loss: 0.5470 - acc: 0.6965 - val_loss: 0.5264 - val_acc: 0.7273\n",
      "Epoch 32/50\n",
      "537/537 [==============================] - 0s 529us/step - loss: 0.5375 - acc: 0.7002 - val_loss: 0.5363 - val_acc: 0.7662\n",
      "Epoch 33/50\n",
      "537/537 [==============================] - 0s 526us/step - loss: 0.5339 - acc: 0.7188 - val_loss: 0.5293 - val_acc: 0.7056\n",
      "Epoch 34/50\n",
      "537/537 [==============================] - 0s 925us/step - loss: 0.5401 - acc: 0.7151 - val_loss: 0.5167 - val_acc: 0.7489\n",
      "Epoch 35/50\n",
      "537/537 [==============================] - 0s 730us/step - loss: 0.5402 - acc: 0.7188 - val_loss: 0.5330 - val_acc: 0.7489\n",
      "Epoch 36/50\n",
      "537/537 [==============================] - 0s 784us/step - loss: 0.5231 - acc: 0.7244 - val_loss: 0.5342 - val_acc: 0.7662\n",
      "Epoch 37/50\n",
      "537/537 [==============================] - 0s 661us/step - loss: 0.5303 - acc: 0.7020 - val_loss: 0.5258 - val_acc: 0.7532\n",
      "Epoch 38/50\n",
      "537/537 [==============================] - 1s 1ms/step - loss: 0.5167 - acc: 0.7281 - val_loss: 0.5005 - val_acc: 0.7662\n",
      "Epoch 39/50\n",
      "537/537 [==============================] - 0s 834us/step - loss: 0.5176 - acc: 0.7486 - val_loss: 0.5041 - val_acc: 0.7662\n",
      "Epoch 40/50\n",
      "537/537 [==============================] - 0s 734us/step - loss: 0.5220 - acc: 0.7318 - val_loss: 0.5023 - val_acc: 0.7532\n",
      "Epoch 41/50\n",
      "537/537 [==============================] - 0s 591us/step - loss: 0.5341 - acc: 0.7318 - val_loss: 0.5298 - val_acc: 0.7576\n",
      "Epoch 42/50\n",
      "537/537 [==============================] - 0s 557us/step - loss: 0.5219 - acc: 0.7337 - val_loss: 0.7306 - val_acc: 0.6320\n",
      "Epoch 43/50\n",
      "537/537 [==============================] - 0s 518us/step - loss: 0.5160 - acc: 0.7412 - val_loss: 0.4865 - val_acc: 0.7662\n",
      "Epoch 44/50\n",
      "537/537 [==============================] - 0s 537us/step - loss: 0.5092 - acc: 0.7281 - val_loss: 0.4956 - val_acc: 0.7576\n",
      "Epoch 45/50\n",
      "537/537 [==============================] - 0s 501us/step - loss: 0.5064 - acc: 0.7579 - val_loss: 0.4800 - val_acc: 0.7662\n",
      "Epoch 46/50\n",
      "537/537 [==============================] - 0s 553us/step - loss: 0.5334 - acc: 0.7244 - val_loss: 0.4799 - val_acc: 0.7792\n",
      "Epoch 47/50\n",
      "537/537 [==============================] - 0s 544us/step - loss: 0.5133 - acc: 0.7467 - val_loss: 0.5063 - val_acc: 0.7835\n",
      "Epoch 48/50\n",
      "537/537 [==============================] - 0s 503us/step - loss: 0.5081 - acc: 0.7523 - val_loss: 0.5025 - val_acc: 0.7706\n",
      "Epoch 49/50\n",
      "537/537 [==============================] - 0s 501us/step - loss: 0.5143 - acc: 0.7579 - val_loss: 0.5133 - val_acc: 0.7403\n",
      "Epoch 50/50\n",
      "537/537 [==============================] - 0s 628us/step - loss: 0.5048 - acc: 0.7654 - val_loss: 0.5089 - val_acc: 0.7749\n"
     ]
    },
    {
     "data": {
      "text/plain": [
       "<keras.callbacks.History at 0x253f8881470>"
      ]
     },
     "execution_count": 163,
     "metadata": {},
     "output_type": "execute_result"
    }
   ],
   "source": [
    "g=mode.fit(X_train, y_train, validation_data=(X_test, y_test), nb_epoch=50, batch_size=5)\n",
    "g"
   ]
  },
  {
   "cell_type": "markdown",
   "metadata": {},
   "source": [
    "# Model Accuracy"
   ]
  },
  {
   "cell_type": "code",
   "execution_count": 164,
   "metadata": {},
   "outputs": [
    {
     "name": "stdout",
     "output_type": "stream",
     "text": [
      "231/231 [==============================] - 0s 91us/step\n",
      "accuracy: 77.49%\n"
     ]
    }
   ],
   "source": [
    "scor = mode.evaluate(X_test, y_test)\n",
    "\n",
    "print(\"accuracy: %.2f%%\" %(scor[1]*100))\n"
   ]
  },
  {
   "cell_type": "markdown",
   "metadata": {},
   "source": [
    "# Model Testing Phase or Predictoin Phase"
   ]
  },
  {
   "cell_type": "code",
   "execution_count": 165,
   "metadata": {},
   "outputs": [
    {
     "data": {
      "text/plain": [
       "array([[0.04611978],\n",
       "       [0.523155  ],\n",
       "       [0.01716837],\n",
       "       [0.6332464 ],\n",
       "       [0.13319632],\n",
       "       [0.17375234],\n",
       "       [0.18793249],\n",
       "       [0.6882944 ],\n",
       "       [0.5212972 ],\n",
       "       [0.0162974 ],\n",
       "       [0.02737933],\n",
       "       [0.6184912 ],\n",
       "       [0.06794104],\n",
       "       [0.05681315],\n",
       "       [0.44926178],\n",
       "       [0.1919674 ],\n",
       "       [0.24958405],\n",
       "       [0.07785881],\n",
       "       [0.5409494 ],\n",
       "       [0.33408716],\n",
       "       [0.22534472],\n",
       "       [0.02758241],\n",
       "       [0.11617896],\n",
       "       [0.35675985],\n",
       "       [0.11171836],\n",
       "       [0.3267979 ],\n",
       "       [0.457409  ],\n",
       "       [0.5550985 ],\n",
       "       [0.02025819],\n",
       "       [0.26201147],\n",
       "       [0.55062824],\n",
       "       [0.8136778 ],\n",
       "       [0.1897806 ],\n",
       "       [0.66724837],\n",
       "       [0.2115415 ],\n",
       "       [0.2722906 ],\n",
       "       [0.5157187 ],\n",
       "       [0.0174641 ],\n",
       "       [0.23363453],\n",
       "       [0.10249126],\n",
       "       [0.01685071],\n",
       "       [0.13730046],\n",
       "       [0.64962155],\n",
       "       [0.53196216],\n",
       "       [0.12139335],\n",
       "       [0.01597244],\n",
       "       [0.6456351 ],\n",
       "       [0.22775394],\n",
       "       [0.0338932 ],\n",
       "       [0.5398591 ],\n",
       "       [0.5792617 ],\n",
       "       [0.0677498 ],\n",
       "       [0.14039141],\n",
       "       [0.276174  ],\n",
       "       [0.0204908 ],\n",
       "       [0.03021166],\n",
       "       [0.01428589],\n",
       "       [0.03290257],\n",
       "       [0.24754634],\n",
       "       [0.53259224],\n",
       "       [0.65946037],\n",
       "       [0.58940685],\n",
       "       [0.73111653],\n",
       "       [0.02607527],\n",
       "       [0.08451259],\n",
       "       [0.24461618],\n",
       "       [0.04742181],\n",
       "       [0.27344257],\n",
       "       [0.0843519 ],\n",
       "       [0.03241536],\n",
       "       [0.5296346 ],\n",
       "       [0.02242562],\n",
       "       [0.0275133 ],\n",
       "       [0.5246978 ],\n",
       "       [0.18648332],\n",
       "       [0.28921938],\n",
       "       [0.14469406],\n",
       "       [0.12217644],\n",
       "       [0.4356362 ],\n",
       "       [0.3670017 ],\n",
       "       [0.6079938 ],\n",
       "       [0.02634552],\n",
       "       [0.01435539],\n",
       "       [0.0427953 ],\n",
       "       [0.6814413 ],\n",
       "       [0.03625491],\n",
       "       [0.6252262 ],\n",
       "       [0.03084236],\n",
       "       [0.22534147],\n",
       "       [0.72074485],\n",
       "       [0.28583005],\n",
       "       [0.01532936],\n",
       "       [0.62667036],\n",
       "       [0.05952549],\n",
       "       [0.48647088],\n",
       "       [0.12829727],\n",
       "       [0.39522913],\n",
       "       [0.20683649],\n",
       "       [0.01996151],\n",
       "       [0.08216867],\n",
       "       [0.01976204],\n",
       "       [0.01278126],\n",
       "       [0.20422855],\n",
       "       [0.09015206],\n",
       "       [0.03140911],\n",
       "       [0.6664475 ],\n",
       "       [0.7334329 ],\n",
       "       [0.17870778],\n",
       "       [0.16652125],\n",
       "       [0.02308601],\n",
       "       [0.05565202],\n",
       "       [0.02738887],\n",
       "       [0.72366846],\n",
       "       [0.48706186],\n",
       "       [0.26806593],\n",
       "       [0.17856479],\n",
       "       [0.1171743 ],\n",
       "       [0.02112886],\n",
       "       [0.34565318],\n",
       "       [0.33629674],\n",
       "       [0.34957218],\n",
       "       [0.6813582 ],\n",
       "       [0.15437073],\n",
       "       [0.32572263],\n",
       "       [0.31700405],\n",
       "       [0.4209734 ],\n",
       "       [0.259171  ],\n",
       "       [0.36450827],\n",
       "       [0.18451852],\n",
       "       [0.694149  ],\n",
       "       [0.05528998],\n",
       "       [0.09054518],\n",
       "       [0.02700266],\n",
       "       [0.02128154],\n",
       "       [0.55382824],\n",
       "       [0.0288358 ],\n",
       "       [0.5091355 ],\n",
       "       [0.02046567],\n",
       "       [0.76610374],\n",
       "       [0.05409366],\n",
       "       [0.09617406],\n",
       "       [0.38656124],\n",
       "       [0.28757897],\n",
       "       [0.02919206],\n",
       "       [0.12886047],\n",
       "       [0.11754677],\n",
       "       [0.03836265],\n",
       "       [0.20236993],\n",
       "       [0.12510633],\n",
       "       [0.21649796],\n",
       "       [0.26111436],\n",
       "       [0.09476677],\n",
       "       [0.13347647],\n",
       "       [0.17496744],\n",
       "       [0.16155714],\n",
       "       [0.04413536],\n",
       "       [0.07013941],\n",
       "       [0.0521771 ],\n",
       "       [0.65705055],\n",
       "       [0.10153693],\n",
       "       [0.08488172],\n",
       "       [0.02447423],\n",
       "       [0.02340412],\n",
       "       [0.01164591],\n",
       "       [0.15446189],\n",
       "       [0.25724947],\n",
       "       [0.1289677 ],\n",
       "       [0.7345606 ],\n",
       "       [0.6779868 ],\n",
       "       [0.28797114],\n",
       "       [0.2659108 ],\n",
       "       [0.50956583],\n",
       "       [0.11451805],\n",
       "       [0.69159263],\n",
       "       [0.22730455],\n",
       "       [0.01714736],\n",
       "       [0.03176779],\n",
       "       [0.12310532],\n",
       "       [0.656673  ],\n",
       "       [0.04408824],\n",
       "       [0.27969784],\n",
       "       [0.60989726],\n",
       "       [0.5093731 ],\n",
       "       [0.04965258],\n",
       "       [0.63951516],\n",
       "       [0.01739821],\n",
       "       [0.24502021],\n",
       "       [0.6356544 ],\n",
       "       [0.09696928],\n",
       "       [0.25132558],\n",
       "       [0.07530463],\n",
       "       [0.22392657],\n",
       "       [0.4230466 ],\n",
       "       [0.01727968],\n",
       "       [0.6884387 ],\n",
       "       [0.06040451],\n",
       "       [0.5788912 ],\n",
       "       [0.04852131],\n",
       "       [0.02712181],\n",
       "       [0.01421273],\n",
       "       [0.13237524],\n",
       "       [0.6582631 ],\n",
       "       [0.08932272],\n",
       "       [0.29758817],\n",
       "       [0.1182681 ],\n",
       "       [0.4538239 ],\n",
       "       [0.45635504],\n",
       "       [0.20976576],\n",
       "       [0.19239947],\n",
       "       [0.31131732],\n",
       "       [0.43142837],\n",
       "       [0.18646467],\n",
       "       [0.2504215 ],\n",
       "       [0.15700445],\n",
       "       [0.02091745],\n",
       "       [0.45204324],\n",
       "       [0.17737237],\n",
       "       [0.1752066 ],\n",
       "       [0.56079906],\n",
       "       [0.7028316 ],\n",
       "       [0.07283702],\n",
       "       [0.09827229],\n",
       "       [0.6778612 ],\n",
       "       [0.18277091],\n",
       "       [0.04008605],\n",
       "       [0.6669045 ],\n",
       "       [0.02615807],\n",
       "       [0.11518254],\n",
       "       [0.21043083],\n",
       "       [0.7315351 ],\n",
       "       [0.2007674 ]], dtype=float32)"
      ]
     },
     "execution_count": 165,
     "metadata": {},
     "output_type": "execute_result"
    }
   ],
   "source": [
    "p_pred=mode.predict(X_test)\n",
    "p_pred"
   ]
  },
  {
   "cell_type": "code",
   "execution_count": 166,
   "metadata": {},
   "outputs": [
    {
     "data": {
      "text/plain": [
       "array([[0],\n",
       "       [1],\n",
       "       [0],\n",
       "       [1],\n",
       "       [0],\n",
       "       [0],\n",
       "       [0],\n",
       "       [1],\n",
       "       [1],\n",
       "       [0],\n",
       "       [0],\n",
       "       [1],\n",
       "       [0],\n",
       "       [0],\n",
       "       [0],\n",
       "       [0],\n",
       "       [0],\n",
       "       [0],\n",
       "       [1],\n",
       "       [0],\n",
       "       [0],\n",
       "       [0],\n",
       "       [0],\n",
       "       [0],\n",
       "       [0],\n",
       "       [0],\n",
       "       [0],\n",
       "       [1],\n",
       "       [0],\n",
       "       [0],\n",
       "       [1],\n",
       "       [1],\n",
       "       [0],\n",
       "       [1],\n",
       "       [0],\n",
       "       [0],\n",
       "       [1],\n",
       "       [0],\n",
       "       [0],\n",
       "       [0],\n",
       "       [0],\n",
       "       [0],\n",
       "       [1],\n",
       "       [1],\n",
       "       [0],\n",
       "       [0],\n",
       "       [1],\n",
       "       [0],\n",
       "       [0],\n",
       "       [1],\n",
       "       [1],\n",
       "       [0],\n",
       "       [0],\n",
       "       [0],\n",
       "       [0],\n",
       "       [0],\n",
       "       [0],\n",
       "       [0],\n",
       "       [0],\n",
       "       [1],\n",
       "       [1],\n",
       "       [1],\n",
       "       [1],\n",
       "       [0],\n",
       "       [0],\n",
       "       [0],\n",
       "       [0],\n",
       "       [0],\n",
       "       [0],\n",
       "       [0],\n",
       "       [1],\n",
       "       [0],\n",
       "       [0],\n",
       "       [1],\n",
       "       [0],\n",
       "       [0],\n",
       "       [0],\n",
       "       [0],\n",
       "       [0],\n",
       "       [0],\n",
       "       [1],\n",
       "       [0],\n",
       "       [0],\n",
       "       [0],\n",
       "       [1],\n",
       "       [0],\n",
       "       [1],\n",
       "       [0],\n",
       "       [0],\n",
       "       [1],\n",
       "       [0],\n",
       "       [0],\n",
       "       [1],\n",
       "       [0],\n",
       "       [0],\n",
       "       [0],\n",
       "       [0],\n",
       "       [0],\n",
       "       [0],\n",
       "       [0],\n",
       "       [0],\n",
       "       [0],\n",
       "       [0],\n",
       "       [0],\n",
       "       [0],\n",
       "       [1],\n",
       "       [1],\n",
       "       [0],\n",
       "       [0],\n",
       "       [0],\n",
       "       [0],\n",
       "       [0],\n",
       "       [1],\n",
       "       [0],\n",
       "       [0],\n",
       "       [0],\n",
       "       [0],\n",
       "       [0],\n",
       "       [0],\n",
       "       [0],\n",
       "       [0],\n",
       "       [1],\n",
       "       [0],\n",
       "       [0],\n",
       "       [0],\n",
       "       [0],\n",
       "       [0],\n",
       "       [0],\n",
       "       [0],\n",
       "       [1],\n",
       "       [0],\n",
       "       [0],\n",
       "       [0],\n",
       "       [0],\n",
       "       [1],\n",
       "       [0],\n",
       "       [1],\n",
       "       [0],\n",
       "       [1],\n",
       "       [0],\n",
       "       [0],\n",
       "       [0],\n",
       "       [0],\n",
       "       [0],\n",
       "       [0],\n",
       "       [0],\n",
       "       [0],\n",
       "       [0],\n",
       "       [0],\n",
       "       [0],\n",
       "       [0],\n",
       "       [0],\n",
       "       [0],\n",
       "       [0],\n",
       "       [0],\n",
       "       [0],\n",
       "       [0],\n",
       "       [0],\n",
       "       [1],\n",
       "       [0],\n",
       "       [0],\n",
       "       [0],\n",
       "       [0],\n",
       "       [0],\n",
       "       [0],\n",
       "       [0],\n",
       "       [0],\n",
       "       [1],\n",
       "       [1],\n",
       "       [0],\n",
       "       [0],\n",
       "       [1],\n",
       "       [0],\n",
       "       [1],\n",
       "       [0],\n",
       "       [0],\n",
       "       [0],\n",
       "       [0],\n",
       "       [1],\n",
       "       [0],\n",
       "       [0],\n",
       "       [1],\n",
       "       [1],\n",
       "       [0],\n",
       "       [1],\n",
       "       [0],\n",
       "       [0],\n",
       "       [1],\n",
       "       [0],\n",
       "       [0],\n",
       "       [0],\n",
       "       [0],\n",
       "       [0],\n",
       "       [0],\n",
       "       [1],\n",
       "       [0],\n",
       "       [1],\n",
       "       [0],\n",
       "       [0],\n",
       "       [0],\n",
       "       [0],\n",
       "       [1],\n",
       "       [0],\n",
       "       [0],\n",
       "       [0],\n",
       "       [0],\n",
       "       [0],\n",
       "       [0],\n",
       "       [0],\n",
       "       [0],\n",
       "       [0],\n",
       "       [0],\n",
       "       [0],\n",
       "       [0],\n",
       "       [0],\n",
       "       [0],\n",
       "       [0],\n",
       "       [0],\n",
       "       [1],\n",
       "       [1],\n",
       "       [0],\n",
       "       [0],\n",
       "       [1],\n",
       "       [0],\n",
       "       [0],\n",
       "       [1],\n",
       "       [0],\n",
       "       [0],\n",
       "       [0],\n",
       "       [1],\n",
       "       [0]])"
      ]
     },
     "execution_count": 166,
     "metadata": {},
     "output_type": "execute_result"
    }
   ],
   "source": [
    "pre_cl=mode.predict_classes(X_test) # ths is our testing Phase\n",
    "pre_cl"
   ]
  },
  {
   "cell_type": "markdown",
   "metadata": {},
   "source": [
    "# Classfication report of our Model with precision, recall, accuracy"
   ]
  },
  {
   "cell_type": "code",
   "execution_count": 174,
   "metadata": {},
   "outputs": [
    {
     "name": "stdout",
     "output_type": "stream",
     "text": [
      "               precision    recall  f1-score   support\n",
      "\n",
      "    Patient 1       0.76      0.94      0.84       144\n",
      "Not Patient 0       0.83      0.51      0.63        87\n",
      "\n",
      "     accuracy                           0.77       231\n",
      "    macro avg       0.79      0.72      0.73       231\n",
      " weighted avg       0.79      0.77      0.76       231\n",
      "\n"
     ]
    }
   ],
   "source": [
    "from sklearn.metrics import classification_report,confusion_matrix\n",
    "targe = ['Patient 1', 'Not Patient 0']\n",
    "print(classification_report(y_test,pre_cl,target_names=targe))"
   ]
  },
  {
   "cell_type": "markdown",
   "metadata": {},
   "source": [
    "# Instance Evaluation to the help of Confusion Metrix"
   ]
  },
  {
   "cell_type": "code",
   "execution_count": 180,
   "metadata": {},
   "outputs": [
    {
     "name": "stdout",
     "output_type": "stream",
     "text": [
      "confusion metrix without normalize\n",
      "[[135   9]\n",
      " [ 43  44]]\n"
     ]
    },
    {
     "data": {
      "image/png": "[encoded data removed]",
      "text/plain": [
       "<Figure size 640x480 with 2 Axes>"
      ]
     },
     "metadata": {},
     "output_type": "display_data"
    }
   ],
   "source": [
    "from sklearn.metrics import confusion_matrix\n",
    "import itertools\n",
    "cm=confusion_matrix(y_test,pre_cl)\n",
    "\n",
    "def go(cm,classes,title='CONFUSOIN METRIX',normalize=False,cmap=plt.cm.Blues):\n",
    "    plt.imshow(cm,interpolation='nearest',cmap=cmap)\n",
    "    plt.title(title)\n",
    "    plt.colorbar()\n",
    "    tick_mark=np.arange(len(classes))\n",
    "    plt.xticks(tick_mark,classes,rotation=45)\n",
    "    plt.yticks(tick_mark,classes)\n",
    "    if normalize:\n",
    "        cm=cm.astype('float') / cm.sum(axis=1)[:,np.newaxis]\n",
    "        print(\"Normalize cnfusion metrix\")\n",
    "    else:\n",
    "        \n",
    "        print(\"confusion metrix without normalize\")\n",
    "    print(cm)    \n",
    "    thresh=cm.max() / 1\n",
    "    for i,j in itertools.product(range(cm.shape[0]),range(cm.shape[1])):\n",
    "        plt.text(j,i,cm[i,j],horizontalalignment='center',color='white' if cm[i,j] > thresh else 'black')\n",
    "    plt.tight_layout()\n",
    "    plt.ylabel('Trure Lable')\n",
    "    plt.xlabel('Predict lable')\n",
    "        \n",
    "    \n",
    "cm_lable=['no_side_effect','head_side_effect']    \n",
    "go(cm,cm_lable,title='confusoin metrix')\n",
    "    "
   ]
  },
  {
   "cell_type": "markdown",
   "metadata": {},
   "source": [
    "# DLMNN Model Loss visualization"
   ]
  },
  {
   "cell_type": "code",
   "execution_count": 176,
   "metadata": {},
   "outputs": [
    {
     "name": "stdout",
     "output_type": "stream",
     "text": [
      "['bmh', 'classic', 'dark_background', 'fast', 'fivethirtyeight', 'ggplot', 'grayscale', 'seaborn-bright', 'seaborn-colorblind', 'seaborn-dark-palette', 'seaborn-dark', 'seaborn-darkgrid', 'seaborn-deep', 'seaborn-muted', 'seaborn-notebook', 'seaborn-paper', 'seaborn-pastel', 'seaborn-poster', 'seaborn-talk', 'seaborn-ticks', 'seaborn-white', 'seaborn-whitegrid', 'seaborn', 'Solarize_Light2', 'tableau-colorblind10', '_classic_test']\n"
     ]
    },
    {
     "data": {
      "image/png": "[encoded data removed]",
      "text/plain": [
       "<Figure size 560x400 with 1 Axes>"
      ]
     },
     "metadata": {},
     "output_type": "display_data"
    }
   ],
   "source": [
    "nb_epoch=50\n",
    "train_los=g.history['loss']\n",
    "val_los=g.history['val_loss']\n",
    "train_ac=g.history['acc']\n",
    "val_ac=g.history['val_acc']\n",
    "xd=range(nb_epoch)\n",
    "plt.figure(1,figsize=(7,5))\n",
    "plt.plot(xd,train_los)\n",
    "plt.plot(xd,val_los)\n",
    "plt.xlabel('num of Epochs')\n",
    "plt.ylabel('loss')\n",
    "plt.title('train_loss vs val_loss')\n",
    "plt.grid(True)\n",
    "plt.legend(['train','val'])\n",
    "print(plt.style.available) # use bmh, classic,ggplot for big pictures\n",
    "plt.style.use(['classic'])\n"
   ]
  },
  {
   "cell_type": "markdown",
   "metadata": {},
   "source": [
    "# DLMNN Model Accuracy visualization"
   ]
  },
  {
   "cell_type": "code",
   "execution_count": 173,
   "metadata": {},
   "outputs": [
    {
     "data": {
      "image/png": "[encoded data removed]",
      "text/plain": [
       "<Figure size 560x400 with 1 Axes>"
      ]
     },
     "metadata": {},
     "output_type": "display_data"
    }
   ],
   "source": [
    "plt.figure(2,figsize=(7,5))\n",
    "plt.plot(xd,train_ac)\n",
    "plt.plot(xd,val_ac)\n",
    "plt.xlabel('num of Epochs')\n",
    "plt.ylabel('accuracy')\n",
    "plt.title('train_acc vs val_acc')\n",
    "plt.grid(True)\n",
    "plt.legend(['train','val'],loc=4)\n",
    "#print plt.style.available # use bmh, classic,ggplot for big pictures\n",
    "plt.style.use(['classic'])"
   ]
  },
  {
   "cell_type": "code",
   "execution_count": null,
   "metadata": {},
   "outputs": [],
   "source": []
  }
 ],
 "metadata": {
  "kernelspec": {
   "display_name": "Python 3",
   "language": "python",
   "name": "python3"
  },
  "language_info": {
   "codemirror_mode": {
    "name": "ipython",
    "version": 3
   },
   "file_extension": ".py",
   "mimetype": "text/x-python",
   "name": "python",
   "nbconvert_exporter": "python",
   "pygments_lexer": "ipython3",
   "version": "3.7.0"
  }
 },
 "nbformat": 4,
 "nbformat_minor": 2
}
